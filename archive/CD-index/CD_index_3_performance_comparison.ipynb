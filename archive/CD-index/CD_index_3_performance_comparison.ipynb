{
  "cells": [
    {
      "cell_type": "markdown",
      "metadata": {
        "id": "uCtwnG6GaoBD"
      },
      "source": [
        "# Performance measurements\n",
        "\n",
        "This notebook compares the performance of a python library against the performance of our SQL-approach when computing the CD index."
      ]
    },
    {
      "cell_type": "code",
      "execution_count": 1,
      "metadata": {
        "colab": {
          "base_uri": "https://localhost:8080/"
        },
        "id": "Od_RN85iaOCv",
        "outputId": "08b7ac81-97b2-418a-cdf1-315182efee14"
      },
      "outputs": [],
      "source": [
        "%pip install cdindex\n",
        "%pip install https://github.com/dspinellis/fast-cdindex/archive/refs/heads/master.zip\n",
        "\n",
        "import cdindex\n",
        "import fast_cdindex\n",
        "\n",
        "import sys\n",
        "import datetime\n",
        "from string import Template\n",
        "import pandas as pd\n",
        "pd.set_option('future.no_silent_downcasting', True)\n",
        "import pandas_gbq\n",
        "import plotly.express as px\n",
        "import numpy as np\n",
        "import re\n",
        "import os\n",
        "import shutil\n",
        "import tqdm\n",
        "import time\n",
        "\n",
        "from google.cloud import bigquery\n",
        "\n",
        "from settings import gbq_project_id, gbq_table_prefix"
      ]
    },
    {
      "cell_type": "code",
      "execution_count": 3,
      "metadata": {},
      "outputs": [],
      "source": [
        "client = bigquery.Client(project=gbq_project_id)"
      ]
    },
    {
      "cell_type": "code",
      "execution_count": 4,
      "metadata": {
        "id": "TWHAhJmfVuSU"
      },
      "outputs": [],
      "source": [
        "def query_gbq(sql, prefix):\n",
        "    total_start_time = time.time()\n",
        "    query_job = client.query(sql)  # API request\n",
        "    \n",
        "    load_start_time = time.time()\n",
        "    result = query_job.to_dataframe()  # Waits for query to finish and load data\n",
        "    end_time =time.time()\n",
        "    \n",
        "    total_sec   =   end_time-total_start_time\n",
        "    load_sec    =   end_time-load_start_time\n",
        "    query_sec   =   (query_job.ended-query_job.started).total_seconds()\n",
        "    processed_mb=   query_job.total_bytes_processed/(1024*1024)\n",
        "\n",
        "    print(f\"Total: {total_sec:.1f} sec,  Query & data load: {load_sec:.1f} sec, Query only: {query_sec:.1f} sec\")\n",
        "    print(f\"{processed_mb:.1f} MB processed\")\n",
        "    print(f\"Read dataframe with {len(result):,} rows and {len(result.columns):,} columns\")\n",
        "\n",
        "    return result, {\n",
        "            prefix+\"_total_sec\" : total_sec,\n",
        "            prefix+\"_load_sec\" : load_sec,\n",
        "            prefix+\"_query_sec\" : query_sec,\n",
        "            prefix+\"_processed_mb\" : processed_mb \n",
        "            }\n"
      ]
    },
    {
      "cell_type": "code",
      "execution_count": 5,
      "metadata": {
        "id": "_Rnnxg_cOtJN"
      },
      "outputs": [],
      "source": [
        "def create_network(where_statement, covid=True):\n",
        "  start_time = time.time()\n",
        "\n",
        "  if covid:\n",
        "    # This is a publically available dataset \n",
        "    table_name = \"covid-19-dimensions-ai.data.publications\"\n",
        "  else:\n",
        "    # This is part of the commercial offering of Dimensions although researchers may get free access\n",
        "    table_name = \"dimensions-ai.data_analytics.publications\"\n",
        "\n",
        "  # We write a mini citation network to GBQ and load the data into the notebook itself\n",
        "  # This creates a level playing field for both the python libraries and GBQ calculations of the CD index\n",
        "  # In order to create a more realistic network we only allow references and \n",
        "  sql = f\"\"\"\n",
        "CREATE OR REPLACE TABLE {gbq_table_prefix}graph\n",
        "CLUSTER BY id\n",
        "AS\n",
        "(\n",
        "  WITH raw_publications AS\n",
        "  (\n",
        "    SELECT\n",
        "      id, year, citations, reference_ids\n",
        "    FROM `{table_name}` AS p\n",
        "    WHERE p.year IS NOT NULL AND\n",
        "    -- These are the conditions for the publications we want to look at\n",
        "    {where_statement}\n",
        "  ),\n",
        "  publications AS\n",
        "  (\n",
        "    SELECT\n",
        "    raw_publications.id, raw_publications.year,\n",
        "    ARRAY(\n",
        "      (\n",
        "        SELECT STRUCT(citation.id AS id, citation.year AS year)\n",
        "        FROM UNNEST(raw_publications.citations) AS citation\n",
        "        INNER JOIN raw_publications AS publications_citation ON citation.id = publications_citation.id\n",
        "      )\n",
        "    ) AS citations,\n",
        "    ARRAY(\n",
        "      (\n",
        "        SELECT reference_id\n",
        "        FROM UNNEST(raw_publications.reference_ids) AS reference_id\n",
        "        INNER JOIN raw_publications AS publications_reference ON reference_id = publications_reference.id\n",
        "      )\n",
        "    ) AS reference_ids\n",
        "    FROM raw_publications\n",
        "\n",
        "  )\n",
        "\n",
        "  SELECT *\n",
        "  FROM publications\n",
        "  WHERE ARRAY_LENGTH(citations)>0 OR ARRAY_LENGTH(reference_ids)>0\n",
        ")\n",
        "\"\"\"\n",
        "  print(\"Writing citation network:\")\n",
        "  dummy, measurements =query_gbq(sql, prefix=\"create_network\")\n",
        "  \n",
        "  print(\"\\nReading data:\")\n",
        "  sql = f\"SELECT * FROM {gbq_table_prefix}graph\"\n",
        "  result, read_measurements =query_gbq(sql, prefix=\"load_network\")\n",
        "\n",
        "  measurements.update(read_measurements)\n",
        "\n",
        "  return result, measurements"
      ]
    },
    {
      "cell_type": "code",
      "execution_count": 6,
      "metadata": {
        "id": "5HW20aJQW7kJ"
      },
      "outputs": [],
      "source": [
        "def calc_gbq():\n",
        "  sql = f\"\"\"\n",
        "  WITH publications AS\n",
        "  (\n",
        "    SELECT id, year, citations, reference_ids\n",
        "    FROM {gbq_table_prefix}graph\n",
        "  )\n",
        "\n",
        "  SELECT focal_id AS name,\n",
        "  (SUM(score)/COUNT(DISTINCT citation_id))+2 AS cd_5\n",
        "  FROM\n",
        "  (\n",
        "    (\n",
        "      SELECT DISTINCT publications.id AS focal_id,\n",
        "      citation.id AS citation_id,\n",
        "      -1 AS score\n",
        "      FROM publications\n",
        "      LEFT JOIN UNNEST(publications.citations) AS citation\n",
        "      WHERE citation.year - publications.year BETWEEN 1 AND 5\n",
        "    )\n",
        "    UNION ALL\n",
        "    (\n",
        "      SELECT DISTINCT publications.id AS focal_id,\n",
        "      reference_citation.id as citation_id,\n",
        "      -2 as score\n",
        "      FROM publications\n",
        "      LEFT JOIN UNNEST(publications.reference_ids) AS reference_id\n",
        "      INNER JOIN publications AS references\n",
        "      ON references.id = reference_id\n",
        "      LEFT JOIN UNNEST(references.citations) AS reference_citation\n",
        "      WHERE reference_citation.year - publications.year BETWEEN 1 AND 5\n",
        "    )\n",
        "  )\n",
        "  GROUP BY 1\n",
        "  \"\"\"\n",
        "  return query_gbq(sql, \"calc_gbq\")\n"
      ]
    },
    {
      "cell_type": "code",
      "execution_count": 7,
      "metadata": {
        "id": "xgr5C-3EbHcH"
      },
      "outputs": [],
      "source": [
        "def calc_cdindex(publications):\n",
        "  # We make the assumptions that the references and citations are also in the publication ids so we can just take id ->citations to build the graph\n",
        "  start_time = time.time()\n",
        "  vertices = publications[[\"id\", \"year\"]].drop_duplicates().rename(columns={\"id\" : \"name\", \"year\" : \"time\"})\n",
        "  edges = publications[[\"id\", \"reference_ids\"]].explode(\"reference_ids\").rename(columns={\"id\" : \"source\", \"reference_ids\" : \"target\"})\n",
        "  edges = edges[~edges.target.isna()]\n",
        "  graph = cdindex.Graph(vertices = vertices.to_dict(\"records\"), edges = edges.to_dict(\"records\"))\n",
        "  vertices[\"cd_5\"] = vertices[\"name\"].apply(graph.cdindex, t_delta=5)\n",
        "  duration = time.time()-start_time\n",
        "  print(f\"Calculation CD index via cdindex: {duration:.1f} sec\")\n",
        "  return vertices, { \"calc_cdindex_sec\" : duration, \"edges\" : len(edges) }"
      ]
    },
    {
      "cell_type": "code",
      "execution_count": 8,
      "metadata": {
        "id": "UjfDiOGg1Rvu"
      },
      "outputs": [],
      "source": [
        "def calc_fast_cdindex(publications):\n",
        "  # We make the assumptions that the references and citations are also in the publication ids so we can just take id ->citations to build the graph\n",
        "  start_time = time.time()\n",
        "  vertices = publications[[\"id\", \"year\"]].drop_duplicates().rename(columns={\"id\" : \"name\", \"year\" : \"time\"})\n",
        "  edges = publications[[\"id\", \"reference_ids\"]].explode(\"reference_ids\").rename(columns={\"id\" : \"source\", \"reference_ids\" : \"target\"})\n",
        "  edges = edges[~edges.target.isna()]\n",
        "  graph = fast_cdindex.Graph(vertices = vertices.to_dict(\"records\"), edges = edges.to_dict(\"records\"))\n",
        "  vertices[\"cd_5\"] = vertices[\"name\"].apply(graph.cdindex, t_delta=5)\n",
        "  duration = time.time()-start_time\n",
        "  print(f\"Calculation CD index via fast-cdindex: {duration:.1f} sec\")\n",
        "  return vertices, { \"calc_fast_cdindex_sec\" : duration, \"edges\" : len(edges) }"
      ]
    },
    {
      "cell_type": "code",
      "execution_count": 9,
      "metadata": {
        "colab": {
          "base_uri": "https://localhost:8080/",
          "height": 1000
        },
        "id": "_mlvPnOFeEcg",
        "outputId": "0a452ff6-c010-479d-da91-91232c856aec"
      },
      "outputs": [],
      "source": [
        "# Helper function to make graphs for the performance\n",
        "def make_graph(logs, x_col):\n",
        "  labels = { k : k.replace('_', ' ').capitalize() for k in logs.keys()}\n",
        "  sec_cols = [c for c in logs.columns if c.endswith(\"_sec\") and not c.startswith(\"create\") and not c.endswith(\"_load_sec\")]\n",
        "            \n",
        "  fig = px.line(logs, x=x_col, y=sec_cols,\n",
        "                labels= labels\n",
        "                )\n",
        "  fig.update_layout(xaxis_title=labels[x_col], yaxis_title=\"sec\")\n",
        "\n",
        "  fig.for_each_trace(lambda t: t.update(name = labels[t.name]))\n",
        "  fig.show()\n",
        "\n",
        "\n",
        "def measure_mismatch(left_df, right_df, dec):\n",
        "  df_cmp=left_df.merge(right_df, on=\"name\", how=\"outer\")\n",
        "  tolerance = 10**(-dec)\n",
        "  # compare the result up to n digits\n",
        "  return ((df_cmp[\"cd_5_x\"].fillna(0)-df_cmp[\"cd_5_y\"].fillna(0))>tolerance).sum()\n",
        "\n",
        "\n",
        "def run_test(first_year, last_year, steps, subject):\n",
        "  # Here we store the results\n",
        "  measurements_list=[]\n",
        "  \n",
        "  covid = (subject == \"covid\")\n",
        "\n",
        "  for year in range(last_year, first_year,-steps):\n",
        "    print(\"\\n==================\\n\", year)\n",
        "    print(\"Create citation network...\")\n",
        "    if covid:\n",
        "      publications, create_measurements=create_network(f\"p.year >= {year}\", covid = True)\n",
        "    else:\n",
        "      publications, create_measurements=create_network(f\"p.year >= {year} AND p.category_for.second_level.full[SAFE_OFFSET(0)].name = '{subject}'\", covid=False)\n",
        "    if len(publications) == 0:\n",
        "      print(\"\\tNo publications....ignore the rest\")\n",
        "      continue\n",
        "  \n",
        "    print(\"\\nCalculate CD index via python cdindex\")\n",
        "    cdindex_result, cdindex_measurements = calc_cdindex(publications)\n",
        "    \n",
        "    print(\"\\nCalculate CD index via python fast_cd_index\")\n",
        "    fast_cdindex_result, fast_cdindex_measurements = calc_fast_cdindex(publications)\n",
        "    \n",
        "    print(\"\\nCalculate CD index via GBQ\")\n",
        "    gbq_result, gbq_measurements = calc_gbq()\n",
        "\n",
        "    print(\"\\nCompare CD index calculation: cdindex vs GBQ\")\n",
        "    dec = 4\n",
        "    cdindex_gbq_mismatch = measure_mismatch(cdindex_result, gbq_result, dec)\n",
        "    print(f\"\\tNr of discrapencies up to {dec} decimalse: {cdindex_gbq_mismatch}\")\n",
        "\n",
        "    print(\"\\nCompare CD index calculation: cdindex vs fast_cdindex\")\n",
        "    dec = 1\n",
        "    cdindex_fast_cdindex_mismatch = measure_mismatch(cdindex_result, fast_cdindex_result, dec)\n",
        "    print(f\"\\tNr of discrapencies up to {dec} decimalse: {cdindex_fast_cdindex_mismatch}\")\n",
        "\n",
        "    measurements = {\n",
        "        \"year\" : year,\n",
        "        \"subject\" : subject,\n",
        "        \"nr_publications\" : len(publications),\n",
        "        \"cdindex_gbq_mismatch\" : cdindex_gbq_mismatch,\n",
        "        \"cdindex_fast_cdindex_mismatch\" : cdindex_fast_cdindex_mismatch\n",
        "    }\n",
        "    measurements.update(create_measurements)\n",
        "    measurements.update(cdindex_measurements)\n",
        "    measurements.update(fast_cdindex_measurements)\n",
        "    measurements.update(gbq_measurements)\n",
        "    measurements_list.append(measurements)\n",
        "    \n",
        "    logs=pd.DataFrame(measurements_list)\n",
        "    print(\"Save backup to disc...\")\n",
        "    logs.to_feather(\"logs.fth\")\n",
        "    publications.to_feather(\"publications.fth\")\n",
        "    cdindex_result.to_feather(\"cd_index_result.fth\")\n",
        "    fast_cdindex_result.to_feather(\"fast_cdindex_result.fth\")\n",
        "    gbq_result.to_feather(\"gbq_result.fth\")\n",
        "    print(\"...done\")\n",
        "    \n",
        "    \n",
        "  make_graph(logs, \"nr_publications\")\n",
        "  return logs\n",
        "  \n",
        " "
      ]
    },
    {
      "cell_type": "code",
      "execution_count": 10,
      "metadata": {},
      "outputs": [],
      "source": [
        "# This is a test run for the covid dataset which is publically available\n",
        "# logs = run_test(2020,2023,1,\"covid\")"
      ]
    },
    {
      "cell_type": "code",
      "execution_count": 11,
      "metadata": {},
      "outputs": [
        {
          "name": "stdout",
          "output_type": "stream",
          "text": [
            "\n",
            "==================\n",
            " 2024\n",
            "Create citation network...\n",
            "Writing citation network:\n",
            "Total: 7.5 sec,  Query & data load: 6.5 sec, Query only: 6.0 sec\n",
            "1165.2 MB processed\n",
            "Read dataframe with 0 rows and 0 columns\n",
            "\n",
            "Reading data:\n",
            "Total: 4.0 sec,  Query & data load: 2.4 sec, Query only: 1.3 sec\n",
            "0.8 MB processed\n",
            "Read dataframe with 15,887 rows and 4 columns\n",
            "\n",
            "Calculate CD index via python cdindex\n",
            "Calculation CD index via cdindex: 0.1 sec\n",
            "\n",
            "Calculate CD index via python fast_cd_index\n",
            "Calculation CD index via fast-cdindex: 0.0 sec\n",
            "\n",
            "Calculate CD index via GBQ\n",
            "Total: 1.2 sec,  Query & data load: 0.5 sec, Query only: 0.4 sec\n",
            "0.8 MB processed\n",
            "Read dataframe with 0 rows and 2 columns\n",
            "\n",
            "Compare CD index calculation: cdindex vs GBQ\n",
            "\tNr of discrapencies up to 4 decimalse: 0\n",
            "\n",
            "Compare CD index calculation: cdindex vs fast_cdindex\n",
            "\tNr of discrapencies up to 1 decimalse: 0\n",
            "Save backup to disc...\n",
            "...done\n",
            "\n",
            "==================\n",
            " 2020\n",
            "Create citation network...\n",
            "Writing citation network:\n",
            "Total: 20.6 sec,  Query & data load: 20.1 sec, Query only: 19.5 sec\n",
            "14106.1 MB processed\n",
            "Read dataframe with 0 rows and 0 columns\n",
            "\n",
            "Reading data:\n",
            "Total: 540.0 sec,  Query & data load: 538.5 sec, Query only: 16.6 sec\n",
            "279.5 MB processed\n",
            "Read dataframe with 1,627,943 rows and 4 columns\n",
            "\n",
            "Calculate CD index via python cdindex\n",
            "Calculation CD index via cdindex: 497.3 sec\n",
            "\n",
            "Calculate CD index via python fast_cd_index\n",
            "Calculation CD index via fast-cdindex: 208.3 sec\n",
            "\n",
            "Calculate CD index via GBQ\n",
            "Total: 231.7 sec,  Query & data load: 230.1 sec, Query only: 171.9 sec\n",
            "279.5 MB processed\n",
            "Read dataframe with 1,403,343 rows and 2 columns\n",
            "\n",
            "Compare CD index calculation: cdindex vs GBQ\n",
            "\tNr of discrapencies up to 4 decimalse: 0\n",
            "\n",
            "Compare CD index calculation: cdindex vs fast_cdindex\n",
            "\tNr of discrapencies up to 1 decimalse: 456084\n",
            "Save backup to disc...\n",
            "...done\n",
            "\n",
            "==================\n",
            " 2016\n",
            "Create citation network...\n",
            "Writing citation network:\n",
            "Total: 24.5 sec,  Query & data load: 23.9 sec, Query only: 23.6 sec\n",
            "26239.0 MB processed\n",
            "Read dataframe with 0 rows and 0 columns\n",
            "\n",
            "Reading data:\n",
            "Total: 1499.4 sec,  Query & data load: 1497.8 sec, Query only: 28.5 sec\n",
            "772.1 MB processed\n",
            "Read dataframe with 3,041,079 rows and 4 columns\n",
            "\n",
            "Calculate CD index via python cdindex\n",
            "Calculation CD index via cdindex: 780.6 sec\n",
            "\n",
            "Calculate CD index via python fast_cd_index\n",
            "Calculation CD index via fast-cdindex: 489.8 sec\n",
            "\n",
            "Calculate CD index via GBQ\n",
            "Total: 332.3 sec,  Query & data load: 330.5 sec, Query only: 204.7 sec\n",
            "772.1 MB processed\n",
            "Read dataframe with 2,793,926 rows and 2 columns\n",
            "\n",
            "Compare CD index calculation: cdindex vs GBQ\n",
            "\tNr of discrapencies up to 4 decimalse: 0\n",
            "\n",
            "Compare CD index calculation: cdindex vs fast_cdindex\n",
            "\tNr of discrapencies up to 1 decimalse: 683426\n",
            "Save backup to disc...\n",
            "...done\n",
            "\n",
            "==================\n",
            " 2012\n",
            "Create citation network...\n",
            "Writing citation network:\n",
            "Total: 25.6 sec,  Query & data load: 24.9 sec, Query only: 24.5 sec\n",
            "37047.8 MB processed\n",
            "Read dataframe with 0 rows and 0 columns\n",
            "\n",
            "Reading data:\n",
            "Total: 2612.4 sec,  Query & data load: 2610.9 sec, Query only: 14.1 sec\n",
            "1345.9 MB processed\n",
            "Read dataframe with 4,178,177 rows and 4 columns\n",
            "\n",
            "Calculate CD index via python cdindex\n",
            "Calculation CD index via cdindex: 1144.4 sec\n",
            "\n",
            "Calculate CD index via python fast_cd_index\n",
            "Calculation CD index via fast-cdindex: 809.6 sec\n",
            "\n",
            "Calculate CD index via GBQ\n",
            "Total: 418.3 sec,  Query & data load: 416.5 sec, Query only: 233.3 sec\n",
            "1345.9 MB processed\n",
            "Read dataframe with 3,872,997 rows and 2 columns\n",
            "\n",
            "Compare CD index calculation: cdindex vs GBQ\n",
            "\tNr of discrapencies up to 4 decimalse: 0\n",
            "\n",
            "Compare CD index calculation: cdindex vs fast_cdindex\n",
            "\tNr of discrapencies up to 1 decimalse: 758882\n",
            "Save backup to disc...\n",
            "...done\n",
            "\n",
            "==================\n",
            " 2008\n",
            "Create citation network...\n",
            "Writing citation network:\n",
            "Total: 25.2 sec,  Query & data load: 24.6 sec, Query only: 24.1 sec\n",
            "46366.0 MB processed\n",
            "Read dataframe with 0 rows and 0 columns\n",
            "\n",
            "Reading data:\n",
            "Total: 3781.1 sec,  Query & data load: 3779.4 sec, Query only: 15.8 sec\n",
            "1923.1 MB processed\n",
            "Read dataframe with 5,085,459 rows and 4 columns\n",
            "\n",
            "Calculate CD index via python cdindex\n",
            "Calculation CD index via cdindex: 1559.2 sec\n",
            "\n",
            "Calculate CD index via python fast_cd_index\n",
            "Calculation CD index via fast-cdindex: 1247.8 sec\n",
            "\n",
            "Calculate CD index via GBQ\n",
            "Total: 518.4 sec,  Query & data load: 516.6 sec, Query only: 292.7 sec\n",
            "1923.1 MB processed\n",
            "Read dataframe with 4,737,945 rows and 2 columns\n",
            "\n",
            "Compare CD index calculation: cdindex vs GBQ\n",
            "\tNr of discrapencies up to 4 decimalse: 0\n",
            "\n",
            "Compare CD index calculation: cdindex vs fast_cdindex\n",
            "\tNr of discrapencies up to 1 decimalse: 782292\n",
            "Save backup to disc...\n",
            "...done\n",
            "\n",
            "==================\n",
            " 2004\n",
            "Create citation network...\n",
            "Writing citation network:\n",
            "Total: 30.5 sec,  Query & data load: 29.7 sec, Query only: 29.1 sec\n",
            "54177.4 MB processed\n",
            "Read dataframe with 0 rows and 0 columns\n",
            "\n",
            "Reading data:\n",
            "Total: 4744.4 sec,  Query & data load: 4742.7 sec, Query only: 17.9 sec\n",
            "2466.6 MB processed\n",
            "Read dataframe with 5,828,698 rows and 4 columns\n",
            "\n",
            "Calculate CD index via python cdindex\n",
            "Calculation CD index via cdindex: 2050.3 sec\n",
            "\n",
            "Calculate CD index via python fast_cd_index\n",
            "Calculation CD index via fast-cdindex: 1645.7 sec\n",
            "\n",
            "Calculate CD index via GBQ\n",
            "Total: 567.4 sec,  Query & data load: 565.6 sec, Query only: 298.6 sec\n",
            "2466.6 MB processed\n",
            "Read dataframe with 5,442,330 rows and 2 columns\n",
            "\n",
            "Compare CD index calculation: cdindex vs GBQ\n",
            "\tNr of discrapencies up to 4 decimalse: 0\n",
            "\n",
            "Compare CD index calculation: cdindex vs fast_cdindex\n",
            "\tNr of discrapencies up to 1 decimalse: 812153\n",
            "Save backup to disc...\n",
            "...done\n"
          ]
        },
        {
          "data": {
            "application/vnd.plotly.v1+json": {
              "config": {
                "plotlyServerURL": "https://plot.ly"
              },
              "data": [
                {
                  "hovertemplate": "variable=load_network_total_sec<br>Nr publications=%{x}<br>value=%{y}<extra></extra>",
                  "legendgroup": "load_network_total_sec",
                  "line": {
                    "color": "#636efa",
                    "dash": "solid"
                  },
                  "marker": {
                    "symbol": "circle"
                  },
                  "mode": "lines",
                  "name": "Load network total sec",
                  "orientation": "v",
                  "showlegend": true,
                  "type": "scatter",
                  "x": [
                    15887,
                    1627943,
                    3041079,
                    4178177,
                    5085459,
                    5828698
                  ],
                  "xaxis": "x",
                  "y": [
                    3.9755868911743164,
                    540.0031249523163,
                    1499.366721868515,
                    2612.350268125534,
                    3781.0801849365234,
                    4744.36106801033
                  ],
                  "yaxis": "y"
                },
                {
                  "hovertemplate": "variable=load_network_query_sec<br>Nr publications=%{x}<br>value=%{y}<extra></extra>",
                  "legendgroup": "load_network_query_sec",
                  "line": {
                    "color": "#EF553B",
                    "dash": "solid"
                  },
                  "marker": {
                    "symbol": "circle"
                  },
                  "mode": "lines",
                  "name": "Load network query sec",
                  "orientation": "v",
                  "showlegend": true,
                  "type": "scatter",
                  "x": [
                    15887,
                    1627943,
                    3041079,
                    4178177,
                    5085459,
                    5828698
                  ],
                  "xaxis": "x",
                  "y": [
                    1.265,
                    16.569,
                    28.491,
                    14.083,
                    15.822,
                    17.918
                  ],
                  "yaxis": "y"
                },
                {
                  "hovertemplate": "variable=calc_cdindex_sec<br>Nr publications=%{x}<br>value=%{y}<extra></extra>",
                  "legendgroup": "calc_cdindex_sec",
                  "line": {
                    "color": "#00cc96",
                    "dash": "solid"
                  },
                  "marker": {
                    "symbol": "circle"
                  },
                  "mode": "lines",
                  "name": "Calc cdindex sec",
                  "orientation": "v",
                  "showlegend": true,
                  "type": "scatter",
                  "x": [
                    15887,
                    1627943,
                    3041079,
                    4178177,
                    5085459,
                    5828698
                  ],
                  "xaxis": "x",
                  "y": [
                    0.05372810363769531,
                    497.34402203559875,
                    780.5678038597107,
                    1144.3730890750885,
                    1559.2484867572784,
                    2050.2889170646667
                  ],
                  "yaxis": "y"
                },
                {
                  "hovertemplate": "variable=calc_fast_cdindex_sec<br>Nr publications=%{x}<br>value=%{y}<extra></extra>",
                  "legendgroup": "calc_fast_cdindex_sec",
                  "line": {
                    "color": "#ab63fa",
                    "dash": "solid"
                  },
                  "marker": {
                    "symbol": "circle"
                  },
                  "mode": "lines",
                  "name": "Calc fast cdindex sec",
                  "orientation": "v",
                  "showlegend": true,
                  "type": "scatter",
                  "x": [
                    15887,
                    1627943,
                    3041079,
                    4178177,
                    5085459,
                    5828698
                  ],
                  "xaxis": "x",
                  "y": [
                    0.044947147369384766,
                    208.31873178482056,
                    489.794392824173,
                    809.6221837997437,
                    1247.8244910240173,
                    1645.7198441028595
                  ],
                  "yaxis": "y"
                },
                {
                  "hovertemplate": "variable=calc_gbq_total_sec<br>Nr publications=%{x}<br>value=%{y}<extra></extra>",
                  "legendgroup": "calc_gbq_total_sec",
                  "line": {
                    "color": "#FFA15A",
                    "dash": "solid"
                  },
                  "marker": {
                    "symbol": "circle"
                  },
                  "mode": "lines",
                  "name": "Calc gbq total sec",
                  "orientation": "v",
                  "showlegend": true,
                  "type": "scatter",
                  "x": [
                    15887,
                    1627943,
                    3041079,
                    4178177,
                    5085459,
                    5828698
                  ],
                  "xaxis": "x",
                  "y": [
                    1.1851179599761963,
                    231.70304799079895,
                    332.2856619358063,
                    418.30318212509155,
                    518.3820652961731,
                    567.3813779354095
                  ],
                  "yaxis": "y"
                },
                {
                  "hovertemplate": "variable=calc_gbq_query_sec<br>Nr publications=%{x}<br>value=%{y}<extra></extra>",
                  "legendgroup": "calc_gbq_query_sec",
                  "line": {
                    "color": "#19d3f3",
                    "dash": "solid"
                  },
                  "marker": {
                    "symbol": "circle"
                  },
                  "mode": "lines",
                  "name": "Calc gbq query sec",
                  "orientation": "v",
                  "showlegend": true,
                  "type": "scatter",
                  "x": [
                    15887,
                    1627943,
                    3041079,
                    4178177,
                    5085459,
                    5828698
                  ],
                  "xaxis": "x",
                  "y": [
                    0.352,
                    171.861,
                    204.714,
                    233.301,
                    292.699,
                    298.551
                  ],
                  "yaxis": "y"
                }
              ],
              "layout": {
                "legend": {
                  "title": {
                    "text": "variable"
                  },
                  "tracegroupgap": 0
                },
                "margin": {
                  "t": 60
                },
                "template": {
                  "data": {
                    "bar": [
                      {
                        "error_x": {
                          "color": "#2a3f5f"
                        },
                        "error_y": {
                          "color": "#2a3f5f"
                        },
                        "marker": {
                          "line": {
                            "color": "#E5ECF6",
                            "width": 0.5
                          },
                          "pattern": {
                            "fillmode": "overlay",
                            "size": 10,
                            "solidity": 0.2
                          }
                        },
                        "type": "bar"
                      }
                    ],
                    "barpolar": [
                      {
                        "marker": {
                          "line": {
                            "color": "#E5ECF6",
                            "width": 0.5
                          },
                          "pattern": {
                            "fillmode": "overlay",
                            "size": 10,
                            "solidity": 0.2
                          }
                        },
                        "type": "barpolar"
                      }
                    ],
                    "carpet": [
                      {
                        "aaxis": {
                          "endlinecolor": "#2a3f5f",
                          "gridcolor": "white",
                          "linecolor": "white",
                          "minorgridcolor": "white",
                          "startlinecolor": "#2a3f5f"
                        },
                        "baxis": {
                          "endlinecolor": "#2a3f5f",
                          "gridcolor": "white",
                          "linecolor": "white",
                          "minorgridcolor": "white",
                          "startlinecolor": "#2a3f5f"
                        },
                        "type": "carpet"
                      }
                    ],
                    "choropleth": [
                      {
                        "colorbar": {
                          "outlinewidth": 0,
                          "ticks": ""
                        },
                        "type": "choropleth"
                      }
                    ],
                    "contour": [
                      {
                        "colorbar": {
                          "outlinewidth": 0,
                          "ticks": ""
                        },
                        "colorscale": [
                          [
                            0,
                            "#0d0887"
                          ],
                          [
                            0.1111111111111111,
                            "#46039f"
                          ],
                          [
                            0.2222222222222222,
                            "#7201a8"
                          ],
                          [
                            0.3333333333333333,
                            "#9c179e"
                          ],
                          [
                            0.4444444444444444,
                            "#bd3786"
                          ],
                          [
                            0.5555555555555556,
                            "#d8576b"
                          ],
                          [
                            0.6666666666666666,
                            "#ed7953"
                          ],
                          [
                            0.7777777777777778,
                            "#fb9f3a"
                          ],
                          [
                            0.8888888888888888,
                            "#fdca26"
                          ],
                          [
                            1,
                            "#f0f921"
                          ]
                        ],
                        "type": "contour"
                      }
                    ],
                    "contourcarpet": [
                      {
                        "colorbar": {
                          "outlinewidth": 0,
                          "ticks": ""
                        },
                        "type": "contourcarpet"
                      }
                    ],
                    "heatmap": [
                      {
                        "colorbar": {
                          "outlinewidth": 0,
                          "ticks": ""
                        },
                        "colorscale": [
                          [
                            0,
                            "#0d0887"
                          ],
                          [
                            0.1111111111111111,
                            "#46039f"
                          ],
                          [
                            0.2222222222222222,
                            "#7201a8"
                          ],
                          [
                            0.3333333333333333,
                            "#9c179e"
                          ],
                          [
                            0.4444444444444444,
                            "#bd3786"
                          ],
                          [
                            0.5555555555555556,
                            "#d8576b"
                          ],
                          [
                            0.6666666666666666,
                            "#ed7953"
                          ],
                          [
                            0.7777777777777778,
                            "#fb9f3a"
                          ],
                          [
                            0.8888888888888888,
                            "#fdca26"
                          ],
                          [
                            1,
                            "#f0f921"
                          ]
                        ],
                        "type": "heatmap"
                      }
                    ],
                    "heatmapgl": [
                      {
                        "colorbar": {
                          "outlinewidth": 0,
                          "ticks": ""
                        },
                        "colorscale": [
                          [
                            0,
                            "#0d0887"
                          ],
                          [
                            0.1111111111111111,
                            "#46039f"
                          ],
                          [
                            0.2222222222222222,
                            "#7201a8"
                          ],
                          [
                            0.3333333333333333,
                            "#9c179e"
                          ],
                          [
                            0.4444444444444444,
                            "#bd3786"
                          ],
                          [
                            0.5555555555555556,
                            "#d8576b"
                          ],
                          [
                            0.6666666666666666,
                            "#ed7953"
                          ],
                          [
                            0.7777777777777778,
                            "#fb9f3a"
                          ],
                          [
                            0.8888888888888888,
                            "#fdca26"
                          ],
                          [
                            1,
                            "#f0f921"
                          ]
                        ],
                        "type": "heatmapgl"
                      }
                    ],
                    "histogram": [
                      {
                        "marker": {
                          "pattern": {
                            "fillmode": "overlay",
                            "size": 10,
                            "solidity": 0.2
                          }
                        },
                        "type": "histogram"
                      }
                    ],
                    "histogram2d": [
                      {
                        "colorbar": {
                          "outlinewidth": 0,
                          "ticks": ""
                        },
                        "colorscale": [
                          [
                            0,
                            "#0d0887"
                          ],
                          [
                            0.1111111111111111,
                            "#46039f"
                          ],
                          [
                            0.2222222222222222,
                            "#7201a8"
                          ],
                          [
                            0.3333333333333333,
                            "#9c179e"
                          ],
                          [
                            0.4444444444444444,
                            "#bd3786"
                          ],
                          [
                            0.5555555555555556,
                            "#d8576b"
                          ],
                          [
                            0.6666666666666666,
                            "#ed7953"
                          ],
                          [
                            0.7777777777777778,
                            "#fb9f3a"
                          ],
                          [
                            0.8888888888888888,
                            "#fdca26"
                          ],
                          [
                            1,
                            "#f0f921"
                          ]
                        ],
                        "type": "histogram2d"
                      }
                    ],
                    "histogram2dcontour": [
                      {
                        "colorbar": {
                          "outlinewidth": 0,
                          "ticks": ""
                        },
                        "colorscale": [
                          [
                            0,
                            "#0d0887"
                          ],
                          [
                            0.1111111111111111,
                            "#46039f"
                          ],
                          [
                            0.2222222222222222,
                            "#7201a8"
                          ],
                          [
                            0.3333333333333333,
                            "#9c179e"
                          ],
                          [
                            0.4444444444444444,
                            "#bd3786"
                          ],
                          [
                            0.5555555555555556,
                            "#d8576b"
                          ],
                          [
                            0.6666666666666666,
                            "#ed7953"
                          ],
                          [
                            0.7777777777777778,
                            "#fb9f3a"
                          ],
                          [
                            0.8888888888888888,
                            "#fdca26"
                          ],
                          [
                            1,
                            "#f0f921"
                          ]
                        ],
                        "type": "histogram2dcontour"
                      }
                    ],
                    "mesh3d": [
                      {
                        "colorbar": {
                          "outlinewidth": 0,
                          "ticks": ""
                        },
                        "type": "mesh3d"
                      }
                    ],
                    "parcoords": [
                      {
                        "line": {
                          "colorbar": {
                            "outlinewidth": 0,
                            "ticks": ""
                          }
                        },
                        "type": "parcoords"
                      }
                    ],
                    "pie": [
                      {
                        "automargin": true,
                        "type": "pie"
                      }
                    ],
                    "scatter": [
                      {
                        "fillpattern": {
                          "fillmode": "overlay",
                          "size": 10,
                          "solidity": 0.2
                        },
                        "type": "scatter"
                      }
                    ],
                    "scatter3d": [
                      {
                        "line": {
                          "colorbar": {
                            "outlinewidth": 0,
                            "ticks": ""
                          }
                        },
                        "marker": {
                          "colorbar": {
                            "outlinewidth": 0,
                            "ticks": ""
                          }
                        },
                        "type": "scatter3d"
                      }
                    ],
                    "scattercarpet": [
                      {
                        "marker": {
                          "colorbar": {
                            "outlinewidth": 0,
                            "ticks": ""
                          }
                        },
                        "type": "scattercarpet"
                      }
                    ],
                    "scattergeo": [
                      {
                        "marker": {
                          "colorbar": {
                            "outlinewidth": 0,
                            "ticks": ""
                          }
                        },
                        "type": "scattergeo"
                      }
                    ],
                    "scattergl": [
                      {
                        "marker": {
                          "colorbar": {
                            "outlinewidth": 0,
                            "ticks": ""
                          }
                        },
                        "type": "scattergl"
                      }
                    ],
                    "scattermapbox": [
                      {
                        "marker": {
                          "colorbar": {
                            "outlinewidth": 0,
                            "ticks": ""
                          }
                        },
                        "type": "scattermapbox"
                      }
                    ],
                    "scatterpolar": [
                      {
                        "marker": {
                          "colorbar": {
                            "outlinewidth": 0,
                            "ticks": ""
                          }
                        },
                        "type": "scatterpolar"
                      }
                    ],
                    "scatterpolargl": [
                      {
                        "marker": {
                          "colorbar": {
                            "outlinewidth": 0,
                            "ticks": ""
                          }
                        },
                        "type": "scatterpolargl"
                      }
                    ],
                    "scatterternary": [
                      {
                        "marker": {
                          "colorbar": {
                            "outlinewidth": 0,
                            "ticks": ""
                          }
                        },
                        "type": "scatterternary"
                      }
                    ],
                    "surface": [
                      {
                        "colorbar": {
                          "outlinewidth": 0,
                          "ticks": ""
                        },
                        "colorscale": [
                          [
                            0,
                            "#0d0887"
                          ],
                          [
                            0.1111111111111111,
                            "#46039f"
                          ],
                          [
                            0.2222222222222222,
                            "#7201a8"
                          ],
                          [
                            0.3333333333333333,
                            "#9c179e"
                          ],
                          [
                            0.4444444444444444,
                            "#bd3786"
                          ],
                          [
                            0.5555555555555556,
                            "#d8576b"
                          ],
                          [
                            0.6666666666666666,
                            "#ed7953"
                          ],
                          [
                            0.7777777777777778,
                            "#fb9f3a"
                          ],
                          [
                            0.8888888888888888,
                            "#fdca26"
                          ],
                          [
                            1,
                            "#f0f921"
                          ]
                        ],
                        "type": "surface"
                      }
                    ],
                    "table": [
                      {
                        "cells": {
                          "fill": {
                            "color": "#EBF0F8"
                          },
                          "line": {
                            "color": "white"
                          }
                        },
                        "header": {
                          "fill": {
                            "color": "#C8D4E3"
                          },
                          "line": {
                            "color": "white"
                          }
                        },
                        "type": "table"
                      }
                    ]
                  },
                  "layout": {
                    "annotationdefaults": {
                      "arrowcolor": "#2a3f5f",
                      "arrowhead": 0,
                      "arrowwidth": 1
                    },
                    "autotypenumbers": "strict",
                    "coloraxis": {
                      "colorbar": {
                        "outlinewidth": 0,
                        "ticks": ""
                      }
                    },
                    "colorscale": {
                      "diverging": [
                        [
                          0,
                          "#8e0152"
                        ],
                        [
                          0.1,
                          "#c51b7d"
                        ],
                        [
                          0.2,
                          "#de77ae"
                        ],
                        [
                          0.3,
                          "#f1b6da"
                        ],
                        [
                          0.4,
                          "#fde0ef"
                        ],
                        [
                          0.5,
                          "#f7f7f7"
                        ],
                        [
                          0.6,
                          "#e6f5d0"
                        ],
                        [
                          0.7,
                          "#b8e186"
                        ],
                        [
                          0.8,
                          "#7fbc41"
                        ],
                        [
                          0.9,
                          "#4d9221"
                        ],
                        [
                          1,
                          "#276419"
                        ]
                      ],
                      "sequential": [
                        [
                          0,
                          "#0d0887"
                        ],
                        [
                          0.1111111111111111,
                          "#46039f"
                        ],
                        [
                          0.2222222222222222,
                          "#7201a8"
                        ],
                        [
                          0.3333333333333333,
                          "#9c179e"
                        ],
                        [
                          0.4444444444444444,
                          "#bd3786"
                        ],
                        [
                          0.5555555555555556,
                          "#d8576b"
                        ],
                        [
                          0.6666666666666666,
                          "#ed7953"
                        ],
                        [
                          0.7777777777777778,
                          "#fb9f3a"
                        ],
                        [
                          0.8888888888888888,
                          "#fdca26"
                        ],
                        [
                          1,
                          "#f0f921"
                        ]
                      ],
                      "sequentialminus": [
                        [
                          0,
                          "#0d0887"
                        ],
                        [
                          0.1111111111111111,
                          "#46039f"
                        ],
                        [
                          0.2222222222222222,
                          "#7201a8"
                        ],
                        [
                          0.3333333333333333,
                          "#9c179e"
                        ],
                        [
                          0.4444444444444444,
                          "#bd3786"
                        ],
                        [
                          0.5555555555555556,
                          "#d8576b"
                        ],
                        [
                          0.6666666666666666,
                          "#ed7953"
                        ],
                        [
                          0.7777777777777778,
                          "#fb9f3a"
                        ],
                        [
                          0.8888888888888888,
                          "#fdca26"
                        ],
                        [
                          1,
                          "#f0f921"
                        ]
                      ]
                    },
                    "colorway": [
                      "#636efa",
                      "#EF553B",
                      "#00cc96",
                      "#ab63fa",
                      "#FFA15A",
                      "#19d3f3",
                      "#FF6692",
                      "#B6E880",
                      "#FF97FF",
                      "#FECB52"
                    ],
                    "font": {
                      "color": "#2a3f5f"
                    },
                    "geo": {
                      "bgcolor": "white",
                      "lakecolor": "white",
                      "landcolor": "#E5ECF6",
                      "showlakes": true,
                      "showland": true,
                      "subunitcolor": "white"
                    },
                    "hoverlabel": {
                      "align": "left"
                    },
                    "hovermode": "closest",
                    "mapbox": {
                      "style": "light"
                    },
                    "paper_bgcolor": "white",
                    "plot_bgcolor": "#E5ECF6",
                    "polar": {
                      "angularaxis": {
                        "gridcolor": "white",
                        "linecolor": "white",
                        "ticks": ""
                      },
                      "bgcolor": "#E5ECF6",
                      "radialaxis": {
                        "gridcolor": "white",
                        "linecolor": "white",
                        "ticks": ""
                      }
                    },
                    "scene": {
                      "xaxis": {
                        "backgroundcolor": "#E5ECF6",
                        "gridcolor": "white",
                        "gridwidth": 2,
                        "linecolor": "white",
                        "showbackground": true,
                        "ticks": "",
                        "zerolinecolor": "white"
                      },
                      "yaxis": {
                        "backgroundcolor": "#E5ECF6",
                        "gridcolor": "white",
                        "gridwidth": 2,
                        "linecolor": "white",
                        "showbackground": true,
                        "ticks": "",
                        "zerolinecolor": "white"
                      },
                      "zaxis": {
                        "backgroundcolor": "#E5ECF6",
                        "gridcolor": "white",
                        "gridwidth": 2,
                        "linecolor": "white",
                        "showbackground": true,
                        "ticks": "",
                        "zerolinecolor": "white"
                      }
                    },
                    "shapedefaults": {
                      "line": {
                        "color": "#2a3f5f"
                      }
                    },
                    "ternary": {
                      "aaxis": {
                        "gridcolor": "white",
                        "linecolor": "white",
                        "ticks": ""
                      },
                      "baxis": {
                        "gridcolor": "white",
                        "linecolor": "white",
                        "ticks": ""
                      },
                      "bgcolor": "#E5ECF6",
                      "caxis": {
                        "gridcolor": "white",
                        "linecolor": "white",
                        "ticks": ""
                      }
                    },
                    "title": {
                      "x": 0.05
                    },
                    "xaxis": {
                      "automargin": true,
                      "gridcolor": "white",
                      "linecolor": "white",
                      "ticks": "",
                      "title": {
                        "standoff": 15
                      },
                      "zerolinecolor": "white",
                      "zerolinewidth": 2
                    },
                    "yaxis": {
                      "automargin": true,
                      "gridcolor": "white",
                      "linecolor": "white",
                      "ticks": "",
                      "title": {
                        "standoff": 15
                      },
                      "zerolinecolor": "white",
                      "zerolinewidth": 2
                    }
                  }
                },
                "xaxis": {
                  "anchor": "y",
                  "domain": [
                    0,
                    1
                  ],
                  "title": {
                    "text": "Nr publications"
                  }
                },
                "yaxis": {
                  "anchor": "x",
                  "domain": [
                    0,
                    1
                  ],
                  "title": {
                    "text": "sec"
                  }
                }
              }
            }
          },
          "metadata": {},
          "output_type": "display_data"
        }
      ],
      "source": [
        "# This is a more serious test run with much more data\n",
        "logs=run_test(2000,2024,4,'Clinical Sciences')\n"
      ]
    },
    {
      "cell_type": "code",
      "execution_count": 8,
      "metadata": {},
      "outputs": [
        {
          "name": "stdout",
          "output_type": "stream",
          "text": [
            "\\begin{tabular}{rrrrrrrrr}\n",
            "\\toprule\n",
            "year & nr_publications & edges & nr_publications & load_network_total_sec & calc_cdindex_sec & calc_fast_cdindex_sec & calc_gbq_total_sec & calc_gbq_query_sec \\\\\n",
            "\\midrule\n",
            "2024 & 15887 & 10650 & 15887 & 4 & 0 & 0 & 1 & 0 \\\\\n",
            "2020 & 1627943 & 6350878 & 1627943 & 540 & 497 & 208 & 232 & 172 \\\\\n",
            "2016 & 3041079 & 18414971 & 3041079 & 1,499 & 781 & 490 & 332 & 205 \\\\\n",
            "2012 & 4178177 & 32776089 & 4178177 & 2,612 & 1,144 & 810 & 418 & 233 \\\\\n",
            "2008 & 5085459 & 47362015 & 5085459 & 3,781 & 1,559 & 1,248 & 518 & 293 \\\\\n",
            "2004 & 5828698 & 61162240 & 5828698 & 4,744 & 2,050 & 1,646 & 567 & 299 \\\\\n",
            "\\bottomrule\n",
            "\\end{tabular}\n",
            "\n"
          ]
        },
        {
          "data": {
            "application/vnd.plotly.v1+json": {
              "config": {
                "plotlyServerURL": "https://plot.ly"
              },
              "data": [
                {
                  "hovertemplate": "variable=load_network_total_sec<br>Nr publications=%{x}<br>value=%{y}<extra></extra>",
                  "legendgroup": "load_network_total_sec",
                  "line": {
                    "color": "#636efa",
                    "dash": "solid"
                  },
                  "marker": {
                    "symbol": "circle"
                  },
                  "mode": "lines",
                  "name": "Load network",
                  "orientation": "v",
                  "showlegend": true,
                  "type": "scatter",
                  "x": [
                    15887,
                    1627943,
                    3041079,
                    4178177,
                    5085459,
                    5828698
                  ],
                  "xaxis": "x",
                  "y": [
                    3.9755868911743164,
                    540.0031249523163,
                    1499.366721868515,
                    2612.350268125534,
                    3781.0801849365234,
                    4744.36106801033
                  ],
                  "yaxis": "y"
                },
                {
                  "hovertemplate": "variable=calc_cdindex_sec<br>Nr publications=%{x}<br>value=%{y}<extra></extra>",
                  "legendgroup": "calc_cdindex_sec",
                  "line": {
                    "color": "#EF553B",
                    "dash": "solid"
                  },
                  "marker": {
                    "symbol": "circle"
                  },
                  "mode": "lines",
                  "name": "Calculation via cdindex",
                  "orientation": "v",
                  "showlegend": true,
                  "type": "scatter",
                  "x": [
                    15887,
                    1627943,
                    3041079,
                    4178177,
                    5085459,
                    5828698
                  ],
                  "xaxis": "x",
                  "y": [
                    0.05372810363769531,
                    497.34402203559875,
                    780.5678038597107,
                    1144.3730890750885,
                    1559.2484867572784,
                    2050.2889170646667
                  ],
                  "yaxis": "y"
                },
                {
                  "hovertemplate": "variable=calc_fast_cdindex_sec<br>Nr publications=%{x}<br>value=%{y}<extra></extra>",
                  "legendgroup": "calc_fast_cdindex_sec",
                  "line": {
                    "color": "#00cc96",
                    "dash": "solid"
                  },
                  "marker": {
                    "symbol": "circle"
                  },
                  "mode": "lines",
                  "name": "Calculation via fast-cdindex",
                  "orientation": "v",
                  "showlegend": true,
                  "type": "scatter",
                  "x": [
                    15887,
                    1627943,
                    3041079,
                    4178177,
                    5085459,
                    5828698
                  ],
                  "xaxis": "x",
                  "y": [
                    0.044947147369384766,
                    208.31873178482056,
                    489.794392824173,
                    809.6221837997437,
                    1247.8244910240173,
                    1645.7198441028595
                  ],
                  "yaxis": "y"
                },
                {
                  "hovertemplate": "variable=calc_gbq_total_sec<br>Nr publications=%{x}<br>value=%{y}<extra></extra>",
                  "legendgroup": "calc_gbq_total_sec",
                  "line": {
                    "color": "#ab63fa",
                    "dash": "solid"
                  },
                  "marker": {
                    "symbol": "circle"
                  },
                  "mode": "lines",
                  "name": "Calculation via GBQ (total)",
                  "orientation": "v",
                  "showlegend": true,
                  "type": "scatter",
                  "x": [
                    15887,
                    1627943,
                    3041079,
                    4178177,
                    5085459,
                    5828698
                  ],
                  "xaxis": "x",
                  "y": [
                    1.1851179599761963,
                    231.70304799079895,
                    332.2856619358063,
                    418.30318212509155,
                    518.3820652961731,
                    567.3813779354095
                  ],
                  "yaxis": "y"
                },
                {
                  "hovertemplate": "variable=calc_gbq_query_sec<br>Nr publications=%{x}<br>value=%{y}<extra></extra>",
                  "legendgroup": "calc_gbq_query_sec",
                  "line": {
                    "color": "#FFA15A",
                    "dash": "solid"
                  },
                  "marker": {
                    "symbol": "circle"
                  },
                  "mode": "lines",
                  "name": "Calculation via GBQ (query)",
                  "orientation": "v",
                  "showlegend": true,
                  "type": "scatter",
                  "x": [
                    15887,
                    1627943,
                    3041079,
                    4178177,
                    5085459,
                    5828698
                  ],
                  "xaxis": "x",
                  "y": [
                    0.352,
                    171.861,
                    204.714,
                    233.301,
                    292.699,
                    298.551
                  ],
                  "yaxis": "y"
                }
              ],
              "layout": {
                "legend": {
                  "orientation": "h",
                  "title": {
                    "text": "Duration"
                  },
                  "tracegroupgap": 0,
                  "x": 0,
                  "xanchor": "left",
                  "y": 1.02,
                  "yanchor": "bottom"
                },
                "margin": {
                  "t": 60
                },
                "template": {
                  "data": {
                    "bar": [
                      {
                        "error_x": {
                          "color": "#2a3f5f"
                        },
                        "error_y": {
                          "color": "#2a3f5f"
                        },
                        "marker": {
                          "line": {
                            "color": "#E5ECF6",
                            "width": 0.5
                          },
                          "pattern": {
                            "fillmode": "overlay",
                            "size": 10,
                            "solidity": 0.2
                          }
                        },
                        "type": "bar"
                      }
                    ],
                    "barpolar": [
                      {
                        "marker": {
                          "line": {
                            "color": "#E5ECF6",
                            "width": 0.5
                          },
                          "pattern": {
                            "fillmode": "overlay",
                            "size": 10,
                            "solidity": 0.2
                          }
                        },
                        "type": "barpolar"
                      }
                    ],
                    "carpet": [
                      {
                        "aaxis": {
                          "endlinecolor": "#2a3f5f",
                          "gridcolor": "white",
                          "linecolor": "white",
                          "minorgridcolor": "white",
                          "startlinecolor": "#2a3f5f"
                        },
                        "baxis": {
                          "endlinecolor": "#2a3f5f",
                          "gridcolor": "white",
                          "linecolor": "white",
                          "minorgridcolor": "white",
                          "startlinecolor": "#2a3f5f"
                        },
                        "type": "carpet"
                      }
                    ],
                    "choropleth": [
                      {
                        "colorbar": {
                          "outlinewidth": 0,
                          "ticks": ""
                        },
                        "type": "choropleth"
                      }
                    ],
                    "contour": [
                      {
                        "colorbar": {
                          "outlinewidth": 0,
                          "ticks": ""
                        },
                        "colorscale": [
                          [
                            0,
                            "#0d0887"
                          ],
                          [
                            0.1111111111111111,
                            "#46039f"
                          ],
                          [
                            0.2222222222222222,
                            "#7201a8"
                          ],
                          [
                            0.3333333333333333,
                            "#9c179e"
                          ],
                          [
                            0.4444444444444444,
                            "#bd3786"
                          ],
                          [
                            0.5555555555555556,
                            "#d8576b"
                          ],
                          [
                            0.6666666666666666,
                            "#ed7953"
                          ],
                          [
                            0.7777777777777778,
                            "#fb9f3a"
                          ],
                          [
                            0.8888888888888888,
                            "#fdca26"
                          ],
                          [
                            1,
                            "#f0f921"
                          ]
                        ],
                        "type": "contour"
                      }
                    ],
                    "contourcarpet": [
                      {
                        "colorbar": {
                          "outlinewidth": 0,
                          "ticks": ""
                        },
                        "type": "contourcarpet"
                      }
                    ],
                    "heatmap": [
                      {
                        "colorbar": {
                          "outlinewidth": 0,
                          "ticks": ""
                        },
                        "colorscale": [
                          [
                            0,
                            "#0d0887"
                          ],
                          [
                            0.1111111111111111,
                            "#46039f"
                          ],
                          [
                            0.2222222222222222,
                            "#7201a8"
                          ],
                          [
                            0.3333333333333333,
                            "#9c179e"
                          ],
                          [
                            0.4444444444444444,
                            "#bd3786"
                          ],
                          [
                            0.5555555555555556,
                            "#d8576b"
                          ],
                          [
                            0.6666666666666666,
                            "#ed7953"
                          ],
                          [
                            0.7777777777777778,
                            "#fb9f3a"
                          ],
                          [
                            0.8888888888888888,
                            "#fdca26"
                          ],
                          [
                            1,
                            "#f0f921"
                          ]
                        ],
                        "type": "heatmap"
                      }
                    ],
                    "heatmapgl": [
                      {
                        "colorbar": {
                          "outlinewidth": 0,
                          "ticks": ""
                        },
                        "colorscale": [
                          [
                            0,
                            "#0d0887"
                          ],
                          [
                            0.1111111111111111,
                            "#46039f"
                          ],
                          [
                            0.2222222222222222,
                            "#7201a8"
                          ],
                          [
                            0.3333333333333333,
                            "#9c179e"
                          ],
                          [
                            0.4444444444444444,
                            "#bd3786"
                          ],
                          [
                            0.5555555555555556,
                            "#d8576b"
                          ],
                          [
                            0.6666666666666666,
                            "#ed7953"
                          ],
                          [
                            0.7777777777777778,
                            "#fb9f3a"
                          ],
                          [
                            0.8888888888888888,
                            "#fdca26"
                          ],
                          [
                            1,
                            "#f0f921"
                          ]
                        ],
                        "type": "heatmapgl"
                      }
                    ],
                    "histogram": [
                      {
                        "marker": {
                          "pattern": {
                            "fillmode": "overlay",
                            "size": 10,
                            "solidity": 0.2
                          }
                        },
                        "type": "histogram"
                      }
                    ],
                    "histogram2d": [
                      {
                        "colorbar": {
                          "outlinewidth": 0,
                          "ticks": ""
                        },
                        "colorscale": [
                          [
                            0,
                            "#0d0887"
                          ],
                          [
                            0.1111111111111111,
                            "#46039f"
                          ],
                          [
                            0.2222222222222222,
                            "#7201a8"
                          ],
                          [
                            0.3333333333333333,
                            "#9c179e"
                          ],
                          [
                            0.4444444444444444,
                            "#bd3786"
                          ],
                          [
                            0.5555555555555556,
                            "#d8576b"
                          ],
                          [
                            0.6666666666666666,
                            "#ed7953"
                          ],
                          [
                            0.7777777777777778,
                            "#fb9f3a"
                          ],
                          [
                            0.8888888888888888,
                            "#fdca26"
                          ],
                          [
                            1,
                            "#f0f921"
                          ]
                        ],
                        "type": "histogram2d"
                      }
                    ],
                    "histogram2dcontour": [
                      {
                        "colorbar": {
                          "outlinewidth": 0,
                          "ticks": ""
                        },
                        "colorscale": [
                          [
                            0,
                            "#0d0887"
                          ],
                          [
                            0.1111111111111111,
                            "#46039f"
                          ],
                          [
                            0.2222222222222222,
                            "#7201a8"
                          ],
                          [
                            0.3333333333333333,
                            "#9c179e"
                          ],
                          [
                            0.4444444444444444,
                            "#bd3786"
                          ],
                          [
                            0.5555555555555556,
                            "#d8576b"
                          ],
                          [
                            0.6666666666666666,
                            "#ed7953"
                          ],
                          [
                            0.7777777777777778,
                            "#fb9f3a"
                          ],
                          [
                            0.8888888888888888,
                            "#fdca26"
                          ],
                          [
                            1,
                            "#f0f921"
                          ]
                        ],
                        "type": "histogram2dcontour"
                      }
                    ],
                    "mesh3d": [
                      {
                        "colorbar": {
                          "outlinewidth": 0,
                          "ticks": ""
                        },
                        "type": "mesh3d"
                      }
                    ],
                    "parcoords": [
                      {
                        "line": {
                          "colorbar": {
                            "outlinewidth": 0,
                            "ticks": ""
                          }
                        },
                        "type": "parcoords"
                      }
                    ],
                    "pie": [
                      {
                        "automargin": true,
                        "type": "pie"
                      }
                    ],
                    "scatter": [
                      {
                        "fillpattern": {
                          "fillmode": "overlay",
                          "size": 10,
                          "solidity": 0.2
                        },
                        "type": "scatter"
                      }
                    ],
                    "scatter3d": [
                      {
                        "line": {
                          "colorbar": {
                            "outlinewidth": 0,
                            "ticks": ""
                          }
                        },
                        "marker": {
                          "colorbar": {
                            "outlinewidth": 0,
                            "ticks": ""
                          }
                        },
                        "type": "scatter3d"
                      }
                    ],
                    "scattercarpet": [
                      {
                        "marker": {
                          "colorbar": {
                            "outlinewidth": 0,
                            "ticks": ""
                          }
                        },
                        "type": "scattercarpet"
                      }
                    ],
                    "scattergeo": [
                      {
                        "marker": {
                          "colorbar": {
                            "outlinewidth": 0,
                            "ticks": ""
                          }
                        },
                        "type": "scattergeo"
                      }
                    ],
                    "scattergl": [
                      {
                        "marker": {
                          "colorbar": {
                            "outlinewidth": 0,
                            "ticks": ""
                          }
                        },
                        "type": "scattergl"
                      }
                    ],
                    "scattermapbox": [
                      {
                        "marker": {
                          "colorbar": {
                            "outlinewidth": 0,
                            "ticks": ""
                          }
                        },
                        "type": "scattermapbox"
                      }
                    ],
                    "scatterpolar": [
                      {
                        "marker": {
                          "colorbar": {
                            "outlinewidth": 0,
                            "ticks": ""
                          }
                        },
                        "type": "scatterpolar"
                      }
                    ],
                    "scatterpolargl": [
                      {
                        "marker": {
                          "colorbar": {
                            "outlinewidth": 0,
                            "ticks": ""
                          }
                        },
                        "type": "scatterpolargl"
                      }
                    ],
                    "scatterternary": [
                      {
                        "marker": {
                          "colorbar": {
                            "outlinewidth": 0,
                            "ticks": ""
                          }
                        },
                        "type": "scatterternary"
                      }
                    ],
                    "surface": [
                      {
                        "colorbar": {
                          "outlinewidth": 0,
                          "ticks": ""
                        },
                        "colorscale": [
                          [
                            0,
                            "#0d0887"
                          ],
                          [
                            0.1111111111111111,
                            "#46039f"
                          ],
                          [
                            0.2222222222222222,
                            "#7201a8"
                          ],
                          [
                            0.3333333333333333,
                            "#9c179e"
                          ],
                          [
                            0.4444444444444444,
                            "#bd3786"
                          ],
                          [
                            0.5555555555555556,
                            "#d8576b"
                          ],
                          [
                            0.6666666666666666,
                            "#ed7953"
                          ],
                          [
                            0.7777777777777778,
                            "#fb9f3a"
                          ],
                          [
                            0.8888888888888888,
                            "#fdca26"
                          ],
                          [
                            1,
                            "#f0f921"
                          ]
                        ],
                        "type": "surface"
                      }
                    ],
                    "table": [
                      {
                        "cells": {
                          "fill": {
                            "color": "#EBF0F8"
                          },
                          "line": {
                            "color": "white"
                          }
                        },
                        "header": {
                          "fill": {
                            "color": "#C8D4E3"
                          },
                          "line": {
                            "color": "white"
                          }
                        },
                        "type": "table"
                      }
                    ]
                  },
                  "layout": {
                    "annotationdefaults": {
                      "arrowcolor": "#2a3f5f",
                      "arrowhead": 0,
                      "arrowwidth": 1
                    },
                    "autotypenumbers": "strict",
                    "coloraxis": {
                      "colorbar": {
                        "outlinewidth": 0,
                        "ticks": ""
                      }
                    },
                    "colorscale": {
                      "diverging": [
                        [
                          0,
                          "#8e0152"
                        ],
                        [
                          0.1,
                          "#c51b7d"
                        ],
                        [
                          0.2,
                          "#de77ae"
                        ],
                        [
                          0.3,
                          "#f1b6da"
                        ],
                        [
                          0.4,
                          "#fde0ef"
                        ],
                        [
                          0.5,
                          "#f7f7f7"
                        ],
                        [
                          0.6,
                          "#e6f5d0"
                        ],
                        [
                          0.7,
                          "#b8e186"
                        ],
                        [
                          0.8,
                          "#7fbc41"
                        ],
                        [
                          0.9,
                          "#4d9221"
                        ],
                        [
                          1,
                          "#276419"
                        ]
                      ],
                      "sequential": [
                        [
                          0,
                          "#0d0887"
                        ],
                        [
                          0.1111111111111111,
                          "#46039f"
                        ],
                        [
                          0.2222222222222222,
                          "#7201a8"
                        ],
                        [
                          0.3333333333333333,
                          "#9c179e"
                        ],
                        [
                          0.4444444444444444,
                          "#bd3786"
                        ],
                        [
                          0.5555555555555556,
                          "#d8576b"
                        ],
                        [
                          0.6666666666666666,
                          "#ed7953"
                        ],
                        [
                          0.7777777777777778,
                          "#fb9f3a"
                        ],
                        [
                          0.8888888888888888,
                          "#fdca26"
                        ],
                        [
                          1,
                          "#f0f921"
                        ]
                      ],
                      "sequentialminus": [
                        [
                          0,
                          "#0d0887"
                        ],
                        [
                          0.1111111111111111,
                          "#46039f"
                        ],
                        [
                          0.2222222222222222,
                          "#7201a8"
                        ],
                        [
                          0.3333333333333333,
                          "#9c179e"
                        ],
                        [
                          0.4444444444444444,
                          "#bd3786"
                        ],
                        [
                          0.5555555555555556,
                          "#d8576b"
                        ],
                        [
                          0.6666666666666666,
                          "#ed7953"
                        ],
                        [
                          0.7777777777777778,
                          "#fb9f3a"
                        ],
                        [
                          0.8888888888888888,
                          "#fdca26"
                        ],
                        [
                          1,
                          "#f0f921"
                        ]
                      ]
                    },
                    "colorway": [
                      "#636efa",
                      "#EF553B",
                      "#00cc96",
                      "#ab63fa",
                      "#FFA15A",
                      "#19d3f3",
                      "#FF6692",
                      "#B6E880",
                      "#FF97FF",
                      "#FECB52"
                    ],
                    "font": {
                      "color": "#2a3f5f"
                    },
                    "geo": {
                      "bgcolor": "white",
                      "lakecolor": "white",
                      "landcolor": "#E5ECF6",
                      "showlakes": true,
                      "showland": true,
                      "subunitcolor": "white"
                    },
                    "hoverlabel": {
                      "align": "left"
                    },
                    "hovermode": "closest",
                    "mapbox": {
                      "style": "light"
                    },
                    "paper_bgcolor": "white",
                    "plot_bgcolor": "#E5ECF6",
                    "polar": {
                      "angularaxis": {
                        "gridcolor": "white",
                        "linecolor": "white",
                        "ticks": ""
                      },
                      "bgcolor": "#E5ECF6",
                      "radialaxis": {
                        "gridcolor": "white",
                        "linecolor": "white",
                        "ticks": ""
                      }
                    },
                    "scene": {
                      "xaxis": {
                        "backgroundcolor": "#E5ECF6",
                        "gridcolor": "white",
                        "gridwidth": 2,
                        "linecolor": "white",
                        "showbackground": true,
                        "ticks": "",
                        "zerolinecolor": "white"
                      },
                      "yaxis": {
                        "backgroundcolor": "#E5ECF6",
                        "gridcolor": "white",
                        "gridwidth": 2,
                        "linecolor": "white",
                        "showbackground": true,
                        "ticks": "",
                        "zerolinecolor": "white"
                      },
                      "zaxis": {
                        "backgroundcolor": "#E5ECF6",
                        "gridcolor": "white",
                        "gridwidth": 2,
                        "linecolor": "white",
                        "showbackground": true,
                        "ticks": "",
                        "zerolinecolor": "white"
                      }
                    },
                    "shapedefaults": {
                      "line": {
                        "color": "#2a3f5f"
                      }
                    },
                    "ternary": {
                      "aaxis": {
                        "gridcolor": "white",
                        "linecolor": "white",
                        "ticks": ""
                      },
                      "baxis": {
                        "gridcolor": "white",
                        "linecolor": "white",
                        "ticks": ""
                      },
                      "bgcolor": "#E5ECF6",
                      "caxis": {
                        "gridcolor": "white",
                        "linecolor": "white",
                        "ticks": ""
                      }
                    },
                    "title": {
                      "x": 0.05
                    },
                    "xaxis": {
                      "automargin": true,
                      "gridcolor": "white",
                      "linecolor": "white",
                      "ticks": "",
                      "title": {
                        "standoff": 15
                      },
                      "zerolinecolor": "white",
                      "zerolinewidth": 2
                    },
                    "yaxis": {
                      "automargin": true,
                      "gridcolor": "white",
                      "linecolor": "white",
                      "ticks": "",
                      "title": {
                        "standoff": 15
                      },
                      "zerolinecolor": "white",
                      "zerolinewidth": 2
                    }
                  }
                },
                "xaxis": {
                  "anchor": "y",
                  "domain": [
                    0,
                    1
                  ],
                  "title": {
                    "text": "Nr publications"
                  }
                },
                "yaxis": {
                  "anchor": "x",
                  "domain": [
                    0,
                    1
                  ],
                  "title": {
                    "text": "sec"
                  }
                }
              }
            }
          },
          "metadata": {},
          "output_type": "display_data"
        }
      ],
      "source": [
        "# This method produces the output for the manuscript\n",
        "\n",
        "logs = pd.read_feather(\"logs.fth\")\n",
        "\n",
        "def output_for_manuscript(logs, x_col):\n",
        "  labels = {  \n",
        "    'nr_publications' : \"Nr publications\",\n",
        "    'load_network_total_sec' : \"Load network\",\n",
        "    'calc_cdindex_sec' : 'Calculation via cdindex',\n",
        "    'calc_fast_cdindex_sec' : \"Calculation via fast-cdindex\",\n",
        "    'calc_gbq_total_sec' : \"Calculation via GBQ (total)\",\n",
        "    'calc_gbq_query_sec' : \"Calculation via GBQ (query)\"\n",
        "  }\n",
        "  sec_cols = list(labels.keys())\n",
        "  display_cols =[\n",
        "        'year',\n",
        "        \"nr_publications\",\n",
        "        \"edges\"\n",
        "    ] + sec_cols\n",
        "\n",
        "  print(logs[display_cols].to_latex(index=False, float_format='{:,.0f}'.format))\n",
        "  fig = px.line(logs, x=x_col, y=sec_cols,\n",
        "                labels= labels\n",
        "                )\n",
        "  fig.update_layout(xaxis_title=labels[x_col], yaxis_title=\"sec\", legend_title=\"Duration\",\n",
        "                    legend=dict(\n",
        "                      orientation=\"h\",\n",
        "                      yanchor=\"bottom\",\n",
        "                      y=1.02,\n",
        "                      xanchor=\"left\",\n",
        "                      x=0\n",
        "  ))\n",
        "\n",
        "  fig.for_each_trace(lambda t: t.update(name = labels[t.name]))\n",
        "  fig.show()\n",
        "\n",
        "output_for_manuscript(logs, \"nr_publications\")"
      ]
    }
  ],
  "metadata": {
    "colab": {
      "provenance": []
    },
    "kernelspec": {
      "display_name": "Python 3",
      "name": "python3"
    },
    "language_info": {
      "codemirror_mode": {
        "name": "ipython",
        "version": 3
      },
      "file_extension": ".py",
      "mimetype": "text/x-python",
      "name": "python",
      "nbconvert_exporter": "python",
      "pygments_lexer": "ipython3",
      "version": "3.10.8"
    }
  },
  "nbformat": 4,
  "nbformat_minor": 0
}
