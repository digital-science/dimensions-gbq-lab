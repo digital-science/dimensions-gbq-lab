{
 "cells": [
  {
   "cell_type": "markdown",
   "metadata": {
    "Collapsed": "false"
   },
   "source": [
    "# Verifying your connection\n",
    "\n",
    "In this notebook we will show how to connect to the Dimensions on Google BigQuery using Python, so that we can then run a few sample queries. \n",
    "In order to run this tutorial, please ensure that: \n",
    "\n",
    "* You have a valid Dimensions on Google BigQuery [account](https://www.dimensions.ai/products/bigquery/)\n",
    "* You have configured your Google Cloud Platform environment (see the [official docs](https://docs.dimensions.ai/bigquery/gcp-setup.html#) on how to do that)\n",
    "\n"
   ]
  },
  {
   "cell_type": "markdown",
   "metadata": {
    "Collapsed": "false"
   },
   "source": [
    "## Connection methods\n",
    "\n",
    "There are a few options available: \n",
    "\n",
    "1. **Use Google Colaboratory and your personal credentials.** This option is the simplest of all, as it doesn't require you to install anything on your computer. It is normally ok for small to mid-sized projects that can live in the cloud. \n",
    "2. **Use a local Jupyter environment and your personal credentials.** This option requires you to install the Google Cloud SDK in order to authenticate. It is the best option if you want to work locally and/or have other Python libraries or services that you need to access. \n",
    "3. **Use a local Jupyter environment and a service account.** This option is really a variance on the option 2, for those users that must use a service account. \n",
    "\n",
    "NOTE All of these options require you to first set up a [GCP project](https://docs.dimensions.ai/bigquery/gcp-setup.html#projects) (as you haven't done it already) and provide your project ID. E.g.: "
   ]
  },
  {
   "cell_type": "code",
   "execution_count": 1,
   "metadata": {
    "Collapsed": "false"
   },
   "outputs": [],
   "source": [
    "MY_PROJECT_ID = \"my-cool-gbq-project\""
   ]
  },
  {
   "cell_type": "markdown",
   "metadata": {
    "Collapsed": "false"
   },
   "source": [
    "### Option 1: using Google Colaboratory and your personal credentials\n",
    "\n",
    "[Google Colaboratory](https://colab.research.google.com/) is a free cloud-based Jupyter environment from Google. This option provides an easy service allowing you to get started with notebooks. \n",
    "\n",
    "Using your Google Account you can create notebooks, execute BigQuery queries and share these with other Google Accounts quickly and easily.\n",
    "\n"
   ]
  },
  {
   "cell_type": "code",
   "execution_count": null,
   "metadata": {
    "Collapsed": "false"
   },
   "outputs": [],
   "source": [
    "# authentication happens via your browser\n",
    "from google.colab import auth\n",
    "auth.authenticate_user()\n",
    "print('Authenticated')\n",
    "\n",
    "MY_PROJECT_ID = \"my-cool-gbq-project\"\n",
    "from google.cloud import bigquery\n",
    "client = bigquery.Client(project=MY_PROJECT_ID)\n"
   ]
  },
  {
   "cell_type": "markdown",
   "metadata": {
    "Collapsed": "false"
   },
   "source": [
    "### Option 2: using a local Jupyter and your personal credentials\n",
    "\n",
    "A Google Account represents a developer, an administrator, or any other person who interacts with Google Cloud. \n",
    "This is normally the Google account one has used to get access to the Dimensions on BigQuery product. \n",
    "\n",
    "In order to configure programmatic access for local development, the easiest way is to authenticate using the [Google Cloud SDK](https://googleapis.dev/python/google-api-core/latest/auth.html).\n",
    "\n",
    "```\n",
    "$ gcloud auth application-default login\n",
    "```\n",
    "\n",
    "Note: the command above should be run from a Terminal or console. This will generate a JSON file that is used as the default application credentials for the account that was selected in the above login process. When using the default Client for each Google provided package (such as BigQuery) they should automatically authenticate using these default credentials."
   ]
  },
  {
   "cell_type": "code",
   "execution_count": null,
   "metadata": {
    "Collapsed": "false"
   },
   "outputs": [],
   "source": [
    "# install python client library\n",
    "!pip install google-cloud-bigquery -U --quiet"
   ]
  },
  {
   "cell_type": "code",
   "execution_count": 3,
   "metadata": {
    "Collapsed": "false"
   },
   "outputs": [],
   "source": [
    "from google.cloud import bigquery\n",
    "\n",
    "MY_PROJECT_ID = \"my-cool-gbq-project\"\n",
    "client = bigquery.Client(project=MY_PROJECT_ID)"
   ]
  },
  {
   "cell_type": "markdown",
   "metadata": {
    "Collapsed": "false"
   },
   "source": [
    "### Option 3: using a local Jupyter and a service account\n",
    "\n",
    "A [service account](https://cloud.google.com/iam/docs/service-accounts) is a special kind of account used by an application or a virtual machine (VM) instance, not a person. \n",
    "\n",
    "Each service account is associated with two sets of public/private RSA key pairs that are used to authenticate to Google: Google-managed keys, and user-managed keys.\n",
    "\n",
    "When using a service account you'd just have to point your client object to the a key file. "
   ]
  },
  {
   "cell_type": "code",
   "execution_count": null,
   "metadata": {
    "Collapsed": "false"
   },
   "outputs": [],
   "source": [
    "from google.cloud import bigquery\n",
    "credentials_file = 'my-awesome-gbq-project-47616836.json'\n",
    "\n",
    "MY_PROJECT_ID = \"my-cool-gbq-project\"\n",
    "\n",
    "# Explicitly use service account credentials by specifying the private key file\n",
    "client = bigquery.Client.from_service_account_json(credentials_file)"
   ]
  },
  {
   "cell_type": "markdown",
   "metadata": {
    "Collapsed": "false"
   },
   "source": [
    "## Running queries\n",
    "\n",
    "Once the connection is set up, all you have to do is to type in a SQL query and run it using the `client` object."
   ]
  },
  {
   "cell_type": "code",
   "execution_count": 4,
   "metadata": {
    "Collapsed": "false"
   },
   "outputs": [
    {
     "name": "stdout",
     "output_type": "stream",
     "text": [
      "> pub.1129493369 : Safety and immunogenicity of the ChAdOx1 nCoV-19 vaccine against SARS-CoV-2: a preliminary report of a phase 1/2, single-blind, randomised controlled trial\n",
      "\tAuthors: 366\n",
      "\tAltmetric Score: 15451\n",
      "> pub.1130340155 : Two metres or one: what is the evidence for physical distancing in covid-19?\n",
      "\tAuthors: 6\n",
      "\tAltmetric Score: 15125\n",
      "> pub.1127239818 : Remdesivir in adults with severe COVID-19: a randomised, double-blind, placebo-controlled, multicentre trial\n",
      "\tAuthors: 46\n",
      "\tAltmetric Score: 12675\n",
      "> pub.1131721397 : Scientific consensus on the COVID-19 pandemic: we need to act now\n",
      "\tAuthors: 31\n",
      "\tAltmetric Score: 10192\n",
      "> pub.1126016857 : Quantifying SARS-CoV-2 transmission suggests epidemic control with digital contact tracing\n",
      "\tAuthors: 9\n",
      "\tAltmetric Score: 8320\n"
     ]
    }
   ],
   "source": [
    "\n",
    "# Query: Top publications from Oxford univ. by Altmetric Score in 2020\n",
    "\n",
    "query_1 = \"\"\"\n",
    "SELECT\n",
    "    id,\n",
    "    title.preferred as title,\n",
    "    ARRAY_LENGTH(authors) as authors_count,\n",
    "    CAST(altmetrics.score as INT64) as altmetric_score\n",
    "FROM\n",
    "    `dimensions-ai.data_analytics.publications`\n",
    "WHERE\n",
    "    year = 2020 AND 'grid.4991.5' in UNNEST(research_orgs)\n",
    "ORDER BY\n",
    "    altmetric_score DESC\n",
    "LIMIT 5\"\"\"\n",
    "\n",
    "# 1 - main syntax\n",
    "\n",
    "query_job = client.query(query_1)\n",
    "\n",
    "results = query_job.result()  # Waits for job to complete.\n",
    "\n",
    "for row in results:\n",
    "  print(\"> {} : {}\\n\\tAuthors: {}\\n\\tAltmetric Score: {}\".format(row.id, row.title, row.authors_count, row.altmetric_score))"
   ]
  },
  {
   "cell_type": "markdown",
   "metadata": {
    "Collapsed": "false"
   },
   "source": [
    "An slighly alternative syntax is also possible"
   ]
  },
  {
   "cell_type": "code",
   "execution_count": 5,
   "metadata": {
    "Collapsed": "false"
   },
   "outputs": [
    {
     "name": "stdout",
     "output_type": "stream",
     "text": [
      "Row(('pub.1129493369', 'Safety and immunogenicity of the ChAdOx1 nCoV-19 vaccine against SARS-CoV-2: a preliminary report of a phase 1/2, single-blind, randomised controlled trial', 366, 15451), {'id': 0, 'title': 1, 'authors_count': 2, 'altmetric_score': 3})\n",
      "Row(('pub.1130340155', 'Two metres or one: what is the evidence for physical distancing in covid-19?', 6, 15125), {'id': 0, 'title': 1, 'authors_count': 2, 'altmetric_score': 3})\n",
      "Row(('pub.1127239818', 'Remdesivir in adults with severe COVID-19: a randomised, double-blind, placebo-controlled, multicentre trial', 46, 12675), {'id': 0, 'title': 1, 'authors_count': 2, 'altmetric_score': 3})\n",
      "Row(('pub.1131721397', 'Scientific consensus on the COVID-19 pandemic: we need to act now', 31, 10192), {'id': 0, 'title': 1, 'authors_count': 2, 'altmetric_score': 3})\n",
      "Row(('pub.1126016857', 'Quantifying SARS-CoV-2 transmission suggests epidemic control with digital contact tracing', 9, 8320), {'id': 0, 'title': 1, 'authors_count': 2, 'altmetric_score': 3})\n"
     ]
    }
   ],
   "source": [
    "# 2 - omit calling result()\n",
    "\n",
    "query_job = client.query(query_1)\n",
    "for row in query_job:\n",
    "    print(row) "
   ]
  },
  {
   "cell_type": "markdown",
   "metadata": {
    "Collapsed": "false"
   },
   "source": [
    "Another quite handy feature is to transform data direclty into [Pandas dataframes](https://pandas.pydata.org/pandas-docs/)"
   ]
  },
  {
   "cell_type": "code",
   "execution_count": 6,
   "metadata": {
    "Collapsed": "false"
   },
   "outputs": [
    {
     "data": {
      "text/html": [
       "<div>\n",
       "<style scoped>\n",
       "    .dataframe tbody tr th:only-of-type {\n",
       "        vertical-align: middle;\n",
       "    }\n",
       "\n",
       "    .dataframe tbody tr th {\n",
       "        vertical-align: top;\n",
       "    }\n",
       "\n",
       "    .dataframe thead th {\n",
       "        text-align: right;\n",
       "    }\n",
       "</style>\n",
       "<table border=\"1\" class=\"dataframe\">\n",
       "  <thead>\n",
       "    <tr style=\"text-align: right;\">\n",
       "      <th></th>\n",
       "      <th>id</th>\n",
       "      <th>title</th>\n",
       "      <th>authors_count</th>\n",
       "      <th>altmetric_score</th>\n",
       "    </tr>\n",
       "  </thead>\n",
       "  <tbody>\n",
       "    <tr>\n",
       "      <th>0</th>\n",
       "      <td>pub.1129493369</td>\n",
       "      <td>Safety and immunogenicity of the ChAdOx1 nCoV-...</td>\n",
       "      <td>366</td>\n",
       "      <td>15451</td>\n",
       "    </tr>\n",
       "    <tr>\n",
       "      <th>1</th>\n",
       "      <td>pub.1130340155</td>\n",
       "      <td>Two metres or one: what is the evidence for ph...</td>\n",
       "      <td>6</td>\n",
       "      <td>15125</td>\n",
       "    </tr>\n",
       "    <tr>\n",
       "      <th>2</th>\n",
       "      <td>pub.1127239818</td>\n",
       "      <td>Remdesivir in adults with severe COVID-19: a r...</td>\n",
       "      <td>46</td>\n",
       "      <td>12675</td>\n",
       "    </tr>\n",
       "    <tr>\n",
       "      <th>3</th>\n",
       "      <td>pub.1131721397</td>\n",
       "      <td>Scientific consensus on the COVID-19 pandemic:...</td>\n",
       "      <td>31</td>\n",
       "      <td>10192</td>\n",
       "    </tr>\n",
       "    <tr>\n",
       "      <th>4</th>\n",
       "      <td>pub.1126016857</td>\n",
       "      <td>Quantifying SARS-CoV-2 transmission suggests e...</td>\n",
       "      <td>9</td>\n",
       "      <td>8320</td>\n",
       "    </tr>\n",
       "  </tbody>\n",
       "</table>\n",
       "</div>"
      ],
      "text/plain": [
       "               id                                              title  \\\n",
       "0  pub.1129493369  Safety and immunogenicity of the ChAdOx1 nCoV-...   \n",
       "1  pub.1130340155  Two metres or one: what is the evidence for ph...   \n",
       "2  pub.1127239818  Remdesivir in adults with severe COVID-19: a r...   \n",
       "3  pub.1131721397  Scientific consensus on the COVID-19 pandemic:...   \n",
       "4  pub.1126016857  Quantifying SARS-CoV-2 transmission suggests e...   \n",
       "\n",
       "   authors_count  altmetric_score  \n",
       "0            366            15451  \n",
       "1              6            15125  \n",
       "2             46            12675  \n",
       "3             31            10192  \n",
       "4              9             8320  "
      ]
     },
     "execution_count": 6,
     "metadata": {},
     "output_type": "execute_result"
    }
   ],
   "source": [
    "# 3 - return a dataframe\n",
    "\n",
    "query_job = client.query(query_1).to_dataframe()\n",
    "query_job"
   ]
  },
  {
   "cell_type": "markdown",
   "metadata": {
    "Collapsed": "false"
   },
   "source": [
    "### Advanced: BigQuery magic command and dynamic parameters\n",
    "\n",
    "The GBQ library comes with a [magic command](https://googleapis.dev/python/bigquery/latest/magics.html) that is essentially a nice shortcut method for running queries. \n",
    "\n",
    "This extensions needs to be loaded sepately e.g.: "
   ]
  },
  {
   "cell_type": "code",
   "execution_count": 7,
   "metadata": {
    "Collapsed": "false"
   },
   "outputs": [],
   "source": [
    "%load_ext google.cloud.bigquery"
   ]
  },
  {
   "cell_type": "markdown",
   "metadata": {
    "Collapsed": "false"
   },
   "source": [
    "We can then set up a couple of query parameters for the query itself, as well as the usual project ID value. "
   ]
  },
  {
   "cell_type": "code",
   "execution_count": 8,
   "metadata": {
    "Collapsed": "false"
   },
   "outputs": [],
   "source": [
    "project_id = MY_PROJECT_ID\n",
    "bq_params = {}\n",
    "bq_params[\"journal_id\"] = \"jour.1115214\""
   ]
  },
  {
   "cell_type": "markdown",
   "metadata": {
    "Collapsed": "false"
   },
   "source": [
    "Finally we can query by starting a cell with the command `%%bigquery ... `: "
   ]
  },
  {
   "cell_type": "code",
   "execution_count": 9,
   "metadata": {
    "Collapsed": "false"
   },
   "outputs": [
    {
     "name": "stderr",
     "output_type": "stream",
     "text": [
      "Query complete after 0.02s: 100%|██████████| 1/1 [00:00<00:00, 699.28query/s] \n",
      "Downloading: 100%|██████████| 11/11 [00:02<00:00,  4.31rows/s]\n"
     ]
    },
    {
     "data": {
      "text/html": [
       "<div>\n",
       "<style scoped>\n",
       "    .dataframe tbody tr th:only-of-type {\n",
       "        vertical-align: middle;\n",
       "    }\n",
       "\n",
       "    .dataframe tbody tr th {\n",
       "        vertical-align: top;\n",
       "    }\n",
       "\n",
       "    .dataframe thead th {\n",
       "        text-align: right;\n",
       "    }\n",
       "</style>\n",
       "<table border=\"1\" class=\"dataframe\">\n",
       "  <thead>\n",
       "    <tr style=\"text-align: right;\">\n",
       "      <th></th>\n",
       "      <th>pubs</th>\n",
       "      <th>year</th>\n",
       "      <th>title</th>\n",
       "    </tr>\n",
       "  </thead>\n",
       "  <tbody>\n",
       "    <tr>\n",
       "      <th>0</th>\n",
       "      <td>438</td>\n",
       "      <td>2020</td>\n",
       "      <td>Nature Biotechnology</td>\n",
       "    </tr>\n",
       "    <tr>\n",
       "      <th>1</th>\n",
       "      <td>386</td>\n",
       "      <td>2019</td>\n",
       "      <td>Nature Biotechnology</td>\n",
       "    </tr>\n",
       "    <tr>\n",
       "      <th>2</th>\n",
       "      <td>374</td>\n",
       "      <td>2018</td>\n",
       "      <td>Nature Biotechnology</td>\n",
       "    </tr>\n",
       "    <tr>\n",
       "      <th>3</th>\n",
       "      <td>380</td>\n",
       "      <td>2017</td>\n",
       "      <td>Nature Biotechnology</td>\n",
       "    </tr>\n",
       "    <tr>\n",
       "      <th>4</th>\n",
       "      <td>436</td>\n",
       "      <td>2016</td>\n",
       "      <td>Nature Biotechnology</td>\n",
       "    </tr>\n",
       "    <tr>\n",
       "      <th>5</th>\n",
       "      <td>467</td>\n",
       "      <td>2015</td>\n",
       "      <td>Nature Biotechnology</td>\n",
       "    </tr>\n",
       "    <tr>\n",
       "      <th>6</th>\n",
       "      <td>475</td>\n",
       "      <td>2014</td>\n",
       "      <td>Nature Biotechnology</td>\n",
       "    </tr>\n",
       "    <tr>\n",
       "      <th>7</th>\n",
       "      <td>462</td>\n",
       "      <td>2013</td>\n",
       "      <td>Nature Biotechnology</td>\n",
       "    </tr>\n",
       "    <tr>\n",
       "      <th>8</th>\n",
       "      <td>507</td>\n",
       "      <td>2012</td>\n",
       "      <td>Nature Biotechnology</td>\n",
       "    </tr>\n",
       "    <tr>\n",
       "      <th>9</th>\n",
       "      <td>459</td>\n",
       "      <td>2011</td>\n",
       "      <td>Nature Biotechnology</td>\n",
       "    </tr>\n",
       "    <tr>\n",
       "      <th>10</th>\n",
       "      <td>486</td>\n",
       "      <td>2010</td>\n",
       "      <td>Nature Biotechnology</td>\n",
       "    </tr>\n",
       "  </tbody>\n",
       "</table>\n",
       "</div>"
      ],
      "text/plain": [
       "    pubs  year                 title\n",
       "0    438  2020  Nature Biotechnology\n",
       "1    386  2019  Nature Biotechnology\n",
       "2    374  2018  Nature Biotechnology\n",
       "3    380  2017  Nature Biotechnology\n",
       "4    436  2016  Nature Biotechnology\n",
       "5    467  2015  Nature Biotechnology\n",
       "6    475  2014  Nature Biotechnology\n",
       "7    462  2013  Nature Biotechnology\n",
       "8    507  2012  Nature Biotechnology\n",
       "9    459  2011  Nature Biotechnology\n",
       "10   486  2010  Nature Biotechnology"
      ]
     },
     "execution_count": 9,
     "metadata": {},
     "output_type": "execute_result"
    }
   ],
   "source": [
    "%%bigquery --params $bq_params --project $project_id \n",
    "\n",
    "# Publications per year for Nature Biotechnology \n",
    "\n",
    "SELECT \n",
    "    count(*) as pubs, year, journal.title \n",
    "FROM \n",
    "    `dimensions-ai.data_analytics.publications`\n",
    "WHERE \n",
    "    year >= 2010\n",
    "    AND journal.id = @journal_id\n",
    "GROUP BY \n",
    "    year, journal.title\n",
    "ORDER BY \n",
    "    year DESC\n"
   ]
  },
  {
   "cell_type": "markdown",
   "metadata": {
    "Collapsed": "false"
   },
   "source": [
    "## Troubleshooting \n",
    "\n",
    "* Query fails wit `to_dataframe() ArrowNotImplementedError` \n",
    "    * Try reinstalling pyarrow ie `pip install pyarrow -U`\n",
    "* Query fails with `AttributeError: 'NoneType' object has no attribute 'transport'`\n",
    "    * Try `pip install google-cloud-bigquery-storage -U` and restarting the notebook"
   ]
  }
 ],
 "metadata": {
  "kernelspec": {
   "display_name": "Python 3",
   "language": "python",
   "name": "python3"
  },
  "language_info": {
   "codemirror_mode": {
    "name": "ipython",
    "version": 3
   },
   "file_extension": ".py",
   "mimetype": "text/x-python",
   "name": "python",
   "nbconvert_exporter": "python",
   "pygments_lexer": "ipython3",
   "version": "3.8.5"
  }
 },
 "nbformat": 4,
 "nbformat_minor": 4
}
