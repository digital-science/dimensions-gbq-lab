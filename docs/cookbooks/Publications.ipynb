{
 "cells": [
  {
   "cell_type": "markdown",
   "metadata": {
    "Collapsed": "false"
   },
   "source": [
    "## Publications dates \n",
    "\n",
    "Each publication has various dates available. \n",
    "\n",
    "* date, year, date_normal, date_online, date_print refer to the publication object. See the [documentation](https://docs.dimensions.ai/bigquery/datasource-publications.html) to find out more about their meaning. \n",
    "* date_imported_gbq refers to when this record was last added to GBQ - this date can be handy if you want to synchronize an external data source to GBQ. \n",
    "* date_inserted: this refers to when this records was originally added to Dimensions (if the records gets adjusted later, it doesn't change). "
   ]
  },
  {
   "cell_type": "code",
   "execution_count": null,
   "metadata": {
    "Collapsed": "false"
   },
   "outputs": [],
   "source": [
    "select doi, date, date_normal, year, date_online, date_print, date_imported_gbq, date_inserted \n",
    "from `dimensions-ai.data_analytics.publications`\n",
    "where year = 2010 and journal.id = \"jour.1115214\"\n",
    "order by citations_count desc \n",
    "limit 10"
   ]
  },
  {
   "cell_type": "markdown",
   "metadata": {
    "Collapsed": "false"
   },
   "source": [
    "## Working with dates "
   ]
  },
  {
   "cell_type": "code",
   "execution_count": 1,
   "metadata": {
    "Collapsed": "false"
   },
   "outputs": [],
   "source": [
    "# queries for dates <> or in between in SQL \n",
    "# example with date time "
   ]
  },
  {
   "cell_type": "markdown",
   "metadata": {
    "Collapsed": "false"
   },
   "source": [
    "maybe worth saying something about date normalised? "
   ]
  },
  {
   "cell_type": "code",
   "execution_count": null,
   "metadata": {
    "Collapsed": "false"
   },
   "outputs": [],
   "source": [
    "SELECT DISTINCT date_normal, COUNT(*) as c\n",
    "FROM `dimensions-ai.data_analytics.publications`\n",
    "WHERE year = 2020\n",
    "GROUP BY date_normal\n",
    "ORDER BY 2 desc, 1 desc"
   ]
  }
 ],
 "metadata": {
  "kernelspec": {
   "display_name": "Python 3",
   "language": "python",
   "name": "python3"
  },
  "language_info": {
   "codemirror_mode": {
    "name": "ipython",
    "version": 3
   },
   "file_extension": ".py",
   "mimetype": "text/x-python",
   "name": "python",
   "nbconvert_exporter": "python",
   "pygments_lexer": "ipython3",
   "version": "3.8.5"
  }
 },
 "nbformat": 4,
 "nbformat_minor": 4
}
